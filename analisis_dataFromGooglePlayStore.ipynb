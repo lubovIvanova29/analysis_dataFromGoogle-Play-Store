{
 "cells": [
  {
   "cell_type": "code",
   "execution_count": 1,
   "id": "02b84dd6",
   "metadata": {},
   "outputs": [],
   "source": [
    "import pandas as pd"
   ]
  },
  {
   "cell_type": "code",
   "execution_count": 2,
   "id": "0d511e08",
   "metadata": {},
   "outputs": [],
   "source": [
    "playstore_df = pd.read_csv('playstore.csv')"
   ]
  },
  {
   "cell_type": "code",
   "execution_count": null,
   "id": "c50029a7",
   "metadata": {},
   "outputs": [],
   "source": [
    "# Сохраните в переменные data_head и data_tail первые и последние 3 строки из датафрейма соответственно.\n",
    "data_head = playstore_df.head(3)\n",
    "data_tail = playstore_df.tail(3)"
   ]
  },
  {
   "cell_type": "code",
   "execution_count": null,
   "id": "10f433c7",
   "metadata": {},
   "outputs": [],
   "source": [
    "#Сохраните в переменные n_col и n_row количество столбцов и строк в датафрейме соответственно\n",
    "n_col = playstore_df.shape[1]\n",
    "n_row = playstore_df.shape[0]"
   ]
  },
  {
   "cell_type": "code",
   "execution_count": 6,
   "id": "9e4a3a16",
   "metadata": {},
   "outputs": [
    {
     "data": {
      "text/plain": [
       "9659"
      ]
     },
     "execution_count": 6,
     "metadata": {},
     "output_type": "execute_result"
    }
   ],
   "source": [
    "#Количество уникальных приложений есть в наших данных\n",
    "\n",
    "playstore_df['App'].unique().size"
   ]
  },
  {
   "cell_type": "code",
   "execution_count": 7,
   "id": "da999147",
   "metadata": {},
   "outputs": [],
   "source": [
    "#Посчитайте число пропущенных значений в колонке с рейтингом приложений.\n",
    "#Сохраните в переменную rating_missing количество пропущенных значений в колонке Rating\n",
    "\n",
    "rating_missing = playstore_df['Rating'].isna().sum()"
   ]
  },
  {
   "cell_type": "code",
   "execution_count": 10,
   "id": "23c41455",
   "metadata": {},
   "outputs": [],
   "source": [
    "#\n",
    "cols = ['App', 'Size', 'Genres', 'Current Ver']\n",
    "playstore_df_cols = playstore_df[cols]\n",
    "\n",
    "df_result = pd.concat([playstore_df_cols[0:3], playstore_df_cols[5:8], playstore_df_cols[15:19]])\n",
    "df_result.to_csv('df_result.csv')\n"
   ]
  },
  {
   "cell_type": "code",
   "execution_count": null,
   "id": "4b76c4f3",
   "metadata": {},
   "outputs": [],
   "source": [
    "playstore_df[cols][:20]"
   ]
  },
  {
   "cell_type": "code",
   "execution_count": 3,
   "id": "121760ed",
   "metadata": {},
   "outputs": [],
   "source": [
    "#Убрать дубликаты приложений (колонка App) и сбросить индекс. \n",
    "unique_playstore = playstore_df.drop_duplicates(subset = ['App']).reset_index(drop = True)"
   ]
  },
  {
   "cell_type": "code",
   "execution_count": 5,
   "id": "7b13c4e6",
   "metadata": {},
   "outputs": [],
   "source": [
    "#Названия колонок необходимо привести к стандартному виду — все буквы должны быть нижнего регистра,\n",
    "#а пробелы должны быть заменены на нижние подчеркивания.\n",
    "\n",
    "unique_playstore.rename(columns={c: c.lower().replace(' ','_') for c in unique_playstore.columns},inplace=True)\n",
    "# или unique_playstore.rename(columns=lambda x: x.lower().replace(' ','_'),inplace=True)\n",
    "# или unique_playstore.columns = [el.lower().replace(' ','_') for el in unique_playstore.columns]"
   ]
  },
  {
   "cell_type": "code",
   "execution_count": null,
   "id": "1096692e",
   "metadata": {},
   "outputs": [],
   "source": [
    "#Введите долю бесплатных приложений. \n",
    "#Ответ округлите до сотых, в качестве десятичного разделителя используйте точку.\n",
    "round(len(unique_playstore[unique_playstore['price'] == '0'])/len(unique_playstore), 2)"
   ]
  },
  {
   "cell_type": "code",
   "execution_count": null,
   "id": "e4b42567",
   "metadata": {},
   "outputs": [],
   "source": [
    "#Отберите из датафрейма только те приложения, которые относятся к образовательной категории  (EDUCATION) \n",
    "#и с количеством отзывов пользователей более 1000. \n",
    "#Сохраните новый датафрейм в переменную education_playstore\n",
    "education_playstore = unique_playstore[(unique_playstore['category'] == 'EDUCATION')\n",
    "                                       & (unique_playstore['reviews'] > 1000)].reset_index(drop = True)"
   ]
  },
  {
   "cell_type": "code",
   "execution_count": 8,
   "id": "56b1dc7e",
   "metadata": {},
   "outputs": [
    {
     "ename": "AttributeError",
     "evalue": "'float' object has no attribute 'replace'",
     "output_type": "error",
     "traceback": [
      "\u001b[0;31m---------------------------------------------------------------------------\u001b[0m",
      "\u001b[0;31mAttributeError\u001b[0m                            Traceback (most recent call last)",
      "Cell \u001b[0;32mIn[8], line 3\u001b[0m\n\u001b[1;32m      1\u001b[0m \u001b[38;5;66;03m#уберем лишние символы из колонки с ценой (price), \u001b[39;00m\n\u001b[1;32m      2\u001b[0m \u001b[38;5;66;03m#чтобы далее с ней было удобнее работать, и переведем данные в тип float.\u001b[39;00m\n\u001b[0;32m----> 3\u001b[0m unique_playstore[\u001b[38;5;124m'\u001b[39m\u001b[38;5;124mprice\u001b[39m\u001b[38;5;124m'\u001b[39m] \u001b[38;5;241m=\u001b[39m unique_playstore[\u001b[38;5;124m'\u001b[39m\u001b[38;5;124mprice\u001b[39m\u001b[38;5;124m'\u001b[39m]\u001b[38;5;241m.\u001b[39mapply(\u001b[38;5;28;01mlambda\u001b[39;00m x: \u001b[38;5;28mfloat\u001b[39m(x\u001b[38;5;241m.\u001b[39mreplace(\u001b[38;5;124m'\u001b[39m\u001b[38;5;124m$\u001b[39m\u001b[38;5;124m'\u001b[39m,\u001b[38;5;124m'\u001b[39m\u001b[38;5;124m'\u001b[39m)))\n\u001b[1;32m      4\u001b[0m unique_playstore\n",
      "File \u001b[0;32m~/anaconda3/lib/python3.11/site-packages/pandas/core/series.py:4357\u001b[0m, in \u001b[0;36mSeries.apply\u001b[0;34m(self, func, convert_dtype, args, **kwargs)\u001b[0m\n\u001b[1;32m   4247\u001b[0m \u001b[38;5;28;01mdef\u001b[39;00m \u001b[38;5;21mapply\u001b[39m(\n\u001b[1;32m   4248\u001b[0m     \u001b[38;5;28mself\u001b[39m,\n\u001b[1;32m   4249\u001b[0m     func: AggFuncType,\n\u001b[0;32m   (...)\u001b[0m\n\u001b[1;32m   4252\u001b[0m     \u001b[38;5;241m*\u001b[39m\u001b[38;5;241m*\u001b[39mkwargs,\n\u001b[1;32m   4253\u001b[0m ) \u001b[38;5;241m-\u001b[39m\u001b[38;5;241m>\u001b[39m FrameOrSeriesUnion:\n\u001b[1;32m   4254\u001b[0m \u001b[38;5;250m    \u001b[39m\u001b[38;5;124;03m\"\"\"\u001b[39;00m\n\u001b[1;32m   4255\u001b[0m \u001b[38;5;124;03m    Invoke function on values of Series.\u001b[39;00m\n\u001b[1;32m   4256\u001b[0m \n\u001b[0;32m   (...)\u001b[0m\n\u001b[1;32m   4355\u001b[0m \u001b[38;5;124;03m    dtype: float64\u001b[39;00m\n\u001b[1;32m   4356\u001b[0m \u001b[38;5;124;03m    \"\"\"\u001b[39;00m\n\u001b[0;32m-> 4357\u001b[0m     \u001b[38;5;28;01mreturn\u001b[39;00m SeriesApply(\u001b[38;5;28mself\u001b[39m, func, convert_dtype, args, kwargs)\u001b[38;5;241m.\u001b[39mapply()\n",
      "File \u001b[0;32m~/anaconda3/lib/python3.11/site-packages/pandas/core/apply.py:1043\u001b[0m, in \u001b[0;36mSeriesApply.apply\u001b[0;34m(self)\u001b[0m\n\u001b[1;32m   1039\u001b[0m \u001b[38;5;28;01mif\u001b[39;00m \u001b[38;5;28misinstance\u001b[39m(\u001b[38;5;28mself\u001b[39m\u001b[38;5;241m.\u001b[39mf, \u001b[38;5;28mstr\u001b[39m):\n\u001b[1;32m   1040\u001b[0m     \u001b[38;5;66;03m# if we are a string, try to dispatch\u001b[39;00m\n\u001b[1;32m   1041\u001b[0m     \u001b[38;5;28;01mreturn\u001b[39;00m \u001b[38;5;28mself\u001b[39m\u001b[38;5;241m.\u001b[39mapply_str()\n\u001b[0;32m-> 1043\u001b[0m \u001b[38;5;28;01mreturn\u001b[39;00m \u001b[38;5;28mself\u001b[39m\u001b[38;5;241m.\u001b[39mapply_standard()\n",
      "File \u001b[0;32m~/anaconda3/lib/python3.11/site-packages/pandas/core/apply.py:1098\u001b[0m, in \u001b[0;36mSeriesApply.apply_standard\u001b[0;34m(self)\u001b[0m\n\u001b[1;32m   1092\u001b[0m         values \u001b[38;5;241m=\u001b[39m obj\u001b[38;5;241m.\u001b[39mastype(\u001b[38;5;28mobject\u001b[39m)\u001b[38;5;241m.\u001b[39m_values\n\u001b[1;32m   1093\u001b[0m         \u001b[38;5;66;03m# error: Argument 2 to \"map_infer\" has incompatible type\u001b[39;00m\n\u001b[1;32m   1094\u001b[0m         \u001b[38;5;66;03m# \"Union[Callable[..., Any], str, List[Union[Callable[..., Any], str]],\u001b[39;00m\n\u001b[1;32m   1095\u001b[0m         \u001b[38;5;66;03m# Dict[Hashable, Union[Union[Callable[..., Any], str],\u001b[39;00m\n\u001b[1;32m   1096\u001b[0m         \u001b[38;5;66;03m# List[Union[Callable[..., Any], str]]]]]\"; expected\u001b[39;00m\n\u001b[1;32m   1097\u001b[0m         \u001b[38;5;66;03m# \"Callable[[Any], Any]\"\u001b[39;00m\n\u001b[0;32m-> 1098\u001b[0m         mapped \u001b[38;5;241m=\u001b[39m lib\u001b[38;5;241m.\u001b[39mmap_infer(\n\u001b[1;32m   1099\u001b[0m             values,\n\u001b[1;32m   1100\u001b[0m             f,  \u001b[38;5;66;03m# type: ignore[arg-type]\u001b[39;00m\n\u001b[1;32m   1101\u001b[0m             convert\u001b[38;5;241m=\u001b[39m\u001b[38;5;28mself\u001b[39m\u001b[38;5;241m.\u001b[39mconvert_dtype,\n\u001b[1;32m   1102\u001b[0m         )\n\u001b[1;32m   1104\u001b[0m \u001b[38;5;28;01mif\u001b[39;00m \u001b[38;5;28mlen\u001b[39m(mapped) \u001b[38;5;129;01mand\u001b[39;00m \u001b[38;5;28misinstance\u001b[39m(mapped[\u001b[38;5;241m0\u001b[39m], ABCSeries):\n\u001b[1;32m   1105\u001b[0m     \u001b[38;5;66;03m# GH 25959 use pd.array instead of tolist\u001b[39;00m\n\u001b[1;32m   1106\u001b[0m     \u001b[38;5;66;03m# so extension arrays can be used\u001b[39;00m\n\u001b[1;32m   1107\u001b[0m     \u001b[38;5;28;01mreturn\u001b[39;00m obj\u001b[38;5;241m.\u001b[39m_constructor_expanddim(pd_array(mapped), index\u001b[38;5;241m=\u001b[39mobj\u001b[38;5;241m.\u001b[39mindex)\n",
      "File \u001b[0;32m~/anaconda3/lib/python3.11/site-packages/pandas/_libs/lib.pyx:2859\u001b[0m, in \u001b[0;36mpandas._libs.lib.map_infer\u001b[0;34m()\u001b[0m\n",
      "Cell \u001b[0;32mIn[8], line 3\u001b[0m, in \u001b[0;36m<lambda>\u001b[0;34m(x)\u001b[0m\n\u001b[1;32m      1\u001b[0m \u001b[38;5;66;03m#уберем лишние символы из колонки с ценой (price), \u001b[39;00m\n\u001b[1;32m      2\u001b[0m \u001b[38;5;66;03m#чтобы далее с ней было удобнее работать, и переведем данные в тип float.\u001b[39;00m\n\u001b[0;32m----> 3\u001b[0m unique_playstore[\u001b[38;5;124m'\u001b[39m\u001b[38;5;124mprice\u001b[39m\u001b[38;5;124m'\u001b[39m] \u001b[38;5;241m=\u001b[39m unique_playstore[\u001b[38;5;124m'\u001b[39m\u001b[38;5;124mprice\u001b[39m\u001b[38;5;124m'\u001b[39m]\u001b[38;5;241m.\u001b[39mapply(\u001b[38;5;28;01mlambda\u001b[39;00m x: \u001b[38;5;28mfloat\u001b[39m(x\u001b[38;5;241m.\u001b[39mreplace(\u001b[38;5;124m'\u001b[39m\u001b[38;5;124m$\u001b[39m\u001b[38;5;124m'\u001b[39m,\u001b[38;5;124m'\u001b[39m\u001b[38;5;124m'\u001b[39m)))\n\u001b[1;32m      4\u001b[0m unique_playstore\n",
      "\u001b[0;31mAttributeError\u001b[0m: 'float' object has no attribute 'replace'"
     ]
    }
   ],
   "source": [
    "#уберем лишние символы из колонки с ценой (price), \n",
    "#чтобы далее с ней было удобнее работать, и переведем данные в тип float.\n",
    "unique_playstore['price'] = unique_playstore['price'].apply(lambda x: float(x.replace('$','')))\n"
   ]
  },
  {
   "cell_type": "code",
   "execution_count": 14,
   "id": "583cbda3",
   "metadata": {},
   "outputs": [
    {
     "data": {
      "text/html": [
       "<div>\n",
       "<style scoped>\n",
       "    .dataframe tbody tr th:only-of-type {\n",
       "        vertical-align: middle;\n",
       "    }\n",
       "\n",
       "    .dataframe tbody tr th {\n",
       "        vertical-align: top;\n",
       "    }\n",
       "\n",
       "    .dataframe thead th {\n",
       "        text-align: right;\n",
       "    }\n",
       "</style>\n",
       "<table border=\"1\" class=\"dataframe\">\n",
       "  <thead>\n",
       "    <tr style=\"text-align: right;\">\n",
       "      <th></th>\n",
       "      <th>unnamed:_0</th>\n",
       "      <th>rating</th>\n",
       "      <th>reviews</th>\n",
       "      <th>price</th>\n",
       "    </tr>\n",
       "  </thead>\n",
       "  <tbody>\n",
       "    <tr>\n",
       "      <th>count</th>\n",
       "      <td>3.000000</td>\n",
       "      <td>3.000000</td>\n",
       "      <td>3.000000</td>\n",
       "      <td>3.00</td>\n",
       "    </tr>\n",
       "    <tr>\n",
       "      <th>mean</th>\n",
       "      <td>4759.333333</td>\n",
       "      <td>4.733333</td>\n",
       "      <td>722.000000</td>\n",
       "      <td>1.99</td>\n",
       "    </tr>\n",
       "    <tr>\n",
       "      <th>std</th>\n",
       "      <td>4.509250</td>\n",
       "      <td>0.057735</td>\n",
       "      <td>537.868943</td>\n",
       "      <td>0.00</td>\n",
       "    </tr>\n",
       "    <tr>\n",
       "      <th>min</th>\n",
       "      <td>4755.000000</td>\n",
       "      <td>4.700000</td>\n",
       "      <td>149.000000</td>\n",
       "      <td>1.99</td>\n",
       "    </tr>\n",
       "    <tr>\n",
       "      <th>25%</th>\n",
       "      <td>4757.000000</td>\n",
       "      <td>4.700000</td>\n",
       "      <td>475.000000</td>\n",
       "      <td>1.99</td>\n",
       "    </tr>\n",
       "    <tr>\n",
       "      <th>50%</th>\n",
       "      <td>4759.000000</td>\n",
       "      <td>4.700000</td>\n",
       "      <td>801.000000</td>\n",
       "      <td>1.99</td>\n",
       "    </tr>\n",
       "    <tr>\n",
       "      <th>75%</th>\n",
       "      <td>4761.500000</td>\n",
       "      <td>4.750000</td>\n",
       "      <td>1008.500000</td>\n",
       "      <td>1.99</td>\n",
       "    </tr>\n",
       "    <tr>\n",
       "      <th>max</th>\n",
       "      <td>4764.000000</td>\n",
       "      <td>4.800000</td>\n",
       "      <td>1216.000000</td>\n",
       "      <td>1.99</td>\n",
       "    </tr>\n",
       "  </tbody>\n",
       "</table>\n",
       "</div>"
      ],
      "text/plain": [
       "        unnamed:_0    rating      reviews  price\n",
       "count     3.000000  3.000000     3.000000   3.00\n",
       "mean   4759.333333  4.733333   722.000000   1.99\n",
       "std       4.509250  0.057735   537.868943   0.00\n",
       "min    4755.000000  4.700000   149.000000   1.99\n",
       "25%    4757.000000  4.700000   475.000000   1.99\n",
       "50%    4759.000000  4.700000   801.000000   1.99\n",
       "75%    4761.500000  4.750000  1008.500000   1.99\n",
       "max    4764.000000  4.800000  1216.000000   1.99"
      ]
     },
     "execution_count": 14,
     "metadata": {},
     "output_type": "execute_result"
    }
   ],
   "source": [
    "unique_playstore_1 = unique_playstore[(unique_playstore['category'] == 'ART_AND_DESIGN')\n",
    "                                      & (unique_playstore['type'] == 'Paid')]\n",
    "unique_playstore_1.describe()"
   ]
  },
  {
   "cell_type": "code",
   "execution_count": null,
   "id": "306a9cc1",
   "metadata": {},
   "outputs": [],
   "source": [
    "`"
   ]
  },
  {
   "cell_type": "code",
   "execution_count": null,
   "id": "f6bfb022",
   "metadata": {},
   "outputs": [],
   "source": []
  },
  {
   "cell_type": "code",
   "execution_count": 24,
   "id": "c87f47c0",
   "metadata": {},
   "outputs": [
    {
     "data": {
      "text/html": [
       "<div>\n",
       "<style scoped>\n",
       "    .dataframe tbody tr th:only-of-type {\n",
       "        vertical-align: middle;\n",
       "    }\n",
       "\n",
       "    .dataframe tbody tr th {\n",
       "        vertical-align: top;\n",
       "    }\n",
       "\n",
       "    .dataframe thead th {\n",
       "        text-align: right;\n",
       "    }\n",
       "</style>\n",
       "<table border=\"1\" class=\"dataframe\">\n",
       "  <thead>\n",
       "    <tr style=\"text-align: right;\">\n",
       "      <th></th>\n",
       "      <th></th>\n",
       "      <th>mean_price</th>\n",
       "      <th>mean_rating</th>\n",
       "      <th>mean_reviews</th>\n",
       "    </tr>\n",
       "    <tr>\n",
       "      <th>category</th>\n",
       "      <th>type</th>\n",
       "      <th></th>\n",
       "      <th></th>\n",
       "      <th></th>\n",
       "    </tr>\n",
       "  </thead>\n",
       "  <tbody>\n",
       "    <tr>\n",
       "      <th rowspan=\"2\" valign=\"top\">ART_AND_DESIGN</th>\n",
       "      <th>Free</th>\n",
       "      <td>0.00</td>\n",
       "      <td>4.3</td>\n",
       "      <td>23230.11</td>\n",
       "    </tr>\n",
       "    <tr>\n",
       "      <th>Paid</th>\n",
       "      <td>1.99</td>\n",
       "      <td>4.7</td>\n",
       "      <td>722.00</td>\n",
       "    </tr>\n",
       "    <tr>\n",
       "      <th rowspan=\"2\" valign=\"top\">AUTO_AND_VEHICLES</th>\n",
       "      <th>Free</th>\n",
       "      <td>0.00</td>\n",
       "      <td>4.2</td>\n",
       "      <td>14140.28</td>\n",
       "    </tr>\n",
       "    <tr>\n",
       "      <th>Paid</th>\n",
       "      <td>4.49</td>\n",
       "      <td>4.6</td>\n",
       "      <td>1387.67</td>\n",
       "    </tr>\n",
       "    <tr>\n",
       "      <th>BEAUTY</th>\n",
       "      <th>Free</th>\n",
       "      <td>0.00</td>\n",
       "      <td>4.3</td>\n",
       "      <td>7476.23</td>\n",
       "    </tr>\n",
       "    <tr>\n",
       "      <th>...</th>\n",
       "      <th>...</th>\n",
       "      <td>...</td>\n",
       "      <td>...</td>\n",
       "      <td>...</td>\n",
       "    </tr>\n",
       "    <tr>\n",
       "      <th>TRAVEL_AND_LOCAL</th>\n",
       "      <th>Paid</th>\n",
       "      <td>4.16</td>\n",
       "      <td>4.1</td>\n",
       "      <td>1506.08</td>\n",
       "    </tr>\n",
       "    <tr>\n",
       "      <th rowspan=\"2\" valign=\"top\">VIDEO_PLAYERS</th>\n",
       "      <th>Free</th>\n",
       "      <td>0.00</td>\n",
       "      <td>4.0</td>\n",
       "      <td>424347.18</td>\n",
       "    </tr>\n",
       "    <tr>\n",
       "      <th>Paid</th>\n",
       "      <td>2.62</td>\n",
       "      <td>4.1</td>\n",
       "      <td>3341.75</td>\n",
       "    </tr>\n",
       "    <tr>\n",
       "      <th rowspan=\"2\" valign=\"top\">WEATHER</th>\n",
       "      <th>Free</th>\n",
       "      <td>0.00</td>\n",
       "      <td>4.2</td>\n",
       "      <td>171249.62</td>\n",
       "    </tr>\n",
       "    <tr>\n",
       "      <th>Paid</th>\n",
       "      <td>4.05</td>\n",
       "      <td>4.4</td>\n",
       "      <td>17055.12</td>\n",
       "    </tr>\n",
       "  </tbody>\n",
       "</table>\n",
       "<p>63 rows × 3 columns</p>\n",
       "</div>"
      ],
      "text/plain": [
       "                       mean_price  mean_rating  mean_reviews\n",
       "category          type                                      \n",
       "ART_AND_DESIGN    Free       0.00          4.3      23230.11\n",
       "                  Paid       1.99          4.7        722.00\n",
       "AUTO_AND_VEHICLES Free       0.00          4.2      14140.28\n",
       "                  Paid       4.49          4.6       1387.67\n",
       "BEAUTY            Free       0.00          4.3       7476.23\n",
       "...                           ...          ...           ...\n",
       "TRAVEL_AND_LOCAL  Paid       4.16          4.1       1506.08\n",
       "VIDEO_PLAYERS     Free       0.00          4.0     424347.18\n",
       "                  Paid       2.62          4.1       3341.75\n",
       "WEATHER           Free       0.00          4.2     171249.62\n",
       "                  Paid       4.05          4.4      17055.12\n",
       "\n",
       "[63 rows x 3 columns]"
      ]
     },
     "execution_count": 24,
     "metadata": {},
     "output_type": "execute_result"
    }
   ],
   "source": [
    "res_df = pd.pivot_table(unique_playstore, \n",
    "                        index = ['category', 'type'],\n",
    "                       values =['price','rating','reviews'],\n",
    "                       aggfunc ='mean')\n",
    "res_df = res_df.rename(columns={\"price\": \"mean_price\", \"rating\": \"mean_rating\", \"reviews\": \"mean_reviews\"})\n",
    "res_df['mean_price'] = res_df['mean_price'].map('{:,.2f}'.format)\n",
    "\n",
    "res_df= res_df.round({'mean_price': 2, 'mean_rating': 1,'mean_reviews': 2})\n",
    "res_df.to_csv('result.csv')\n",
    "res_df"
   ]
  },
  {
   "cell_type": "code",
   "execution_count": null,
   "id": "dcff6466",
   "metadata": {},
   "outputs": [],
   "source": []
  }
 ],
 "metadata": {
  "kernelspec": {
   "display_name": "Python 3 (ipykernel)",
   "language": "python",
   "name": "python3"
  },
  "language_info": {
   "codemirror_mode": {
    "name": "ipython",
    "version": 3
   },
   "file_extension": ".py",
   "mimetype": "text/x-python",
   "name": "python",
   "nbconvert_exporter": "python",
   "pygments_lexer": "ipython3",
   "version": "3.11.5"
  }
 },
 "nbformat": 4,
 "nbformat_minor": 5
}
